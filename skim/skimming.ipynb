{
 "cells": [
  {
   "cell_type": "code",
   "execution_count": 3,
   "metadata": {},
   "outputs": [
    {
     "name": "stdout",
     "output_type": "stream",
     "text": [
      "Image captured and saved as 'captured_image.jpg'\n"
     ]
    }
   ],
   "source": [
    "import cv2\n",
    "\n",
    "# Initialize the camera\n",
    "cap = cv2.VideoCapture(0)\n",
    "\n",
    "while True:\n",
    "    # Capture frame-by-frame\n",
    "    ret, frame = cap.read()\n",
    "\n",
    "    # Display the resulting frame\n",
    "    cv2.imshow('Real-time Camera', frame)\n",
    "\n",
    "    # Capture the image when 'c' is pressed\n",
    "    if cv2.waitKey(1) & 0xFF == ord('c'):\n",
    "        cv2.imwrite('captured_image.jpg', frame)\n",
    "        print(\"Image captured and saved as 'captured_image.jpg'\")\n",
    "\n",
    "    # Break the loop when 'q' is pressed\n",
    "    if cv2.waitKey(1) & 0xFF == ord('q'):\n",
    "        break\n",
    "\n",
    "# Release the camera and destroy all OpenCV windows\n",
    "cap.release()\n",
    "cv2.destroyAllWindows()\n"
   ]
  },
  {
   "cell_type": "code",
   "execution_count": 2,
   "metadata": {},
   "outputs": [
    {
     "name": "stdout",
     "output_type": "stream",
     "text": [
      "Coordinates: x=452, y=132, width=100, height=127\n"
     ]
    }
   ],
   "source": [
    "import cv2\n",
    "\n",
    "# Initialize variables\n",
    "drawing = False\n",
    "top_left_pt, bottom_right_pt = None, None\n",
    "\n",
    "# Mouse callback function\n",
    "def draw_rectangle(event, x, y, flags, param):\n",
    "    global drawing, top_left_pt, bottom_right_pt\n",
    "    \n",
    "    if event == cv2.EVENT_LBUTTONDOWN:\n",
    "        drawing = True\n",
    "        top_left_pt = (x, y)\n",
    "\n",
    "    elif event == cv2.EVENT_LBUTTONUP:\n",
    "        drawing = False\n",
    "        bottom_right_pt = (x, y)\n",
    "        cv2.rectangle(img, top_left_pt, bottom_right_pt, (0, 255, 0), 2)\n",
    "        cv2.imshow(\"Draw Rectangle\", img)\n",
    "\n",
    "        x, y = top_left_pt\n",
    "        width = bottom_right_pt[0] - x\n",
    "        height = bottom_right_pt[1] - y\n",
    "        print(f\"Coordinates: x={x}, y={y}, width={width}, height={height}\")\n",
    "\n",
    "# Read the image\n",
    "img = cv2.imread(\"captured_image.jpg\")\n",
    "cv2.namedWindow(\"Draw Rectangle\")\n",
    "\n",
    "# Initialize mouse callback\n",
    "cv2.setMouseCallback(\"Draw Rectangle\", draw_rectangle)\n",
    "\n",
    "while True:\n",
    "    cv2.imshow(\"Draw Rectangle\", img)\n",
    "    \n",
    "    # Close the window when 'q' is pressed\n",
    "    if cv2.waitKey(1) & 0xFF == ord(\"q\"):\n",
    "        break\n",
    "\n",
    "cv2.destroyAllWindows()\n"
   ]
  }
 ],
 "metadata": {
  "kernelspec": {
   "display_name": "Python 3",
   "language": "python",
   "name": "python3"
  },
  "language_info": {
   "codemirror_mode": {
    "name": "ipython",
    "version": 3
   },
   "file_extension": ".py",
   "mimetype": "text/x-python",
   "name": "python",
   "nbconvert_exporter": "python",
   "pygments_lexer": "ipython3",
   "version": "3.11.4"
  },
  "orig_nbformat": 4
 },
 "nbformat": 4,
 "nbformat_minor": 2
}
