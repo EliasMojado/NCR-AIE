{
 "cells": [
  {
   "cell_type": "code",
   "execution_count": null,
   "metadata": {},
   "outputs": [],
   "source": [
    "import cv2\n",
    "from tkinter import *\n",
    "from PIL import Image, ImageTk\n",
    "import threading\n",
    "\n",
    "# Initialize Tkinter window\n",
    "root = Tk()\n",
    "root.title(\"Capture Image from Video\")\n",
    "\n",
    "# Initialize OpenCV video capture\n",
    "cap = cv2.VideoCapture(0)  # 0 for default camera\n",
    "\n",
    "# Function to display the video stream\n",
    "def video_stream():\n",
    "    while True:\n",
    "        ret, frame = cap.read()\n",
    "        if ret:\n",
    "            cv2image = cv2.cvtColor(frame, cv2.COLOR_BGR2RGBA)\n",
    "            img = Image.fromarray(cv2image)\n",
    "            imgtk = ImageTk.PhotoImage(image=img)\n",
    "            label.imgtk = imgtk\n",
    "            label.config(image=imgtk)\n",
    "        root.update()\n",
    "\n",
    "# Function to capture a single frame\n",
    "def capture_image():\n",
    "    ret, frame = cap.read()\n",
    "    if ret:\n",
    "        cv2.imwrite(\"captured_image.jpg\", frame)\n",
    "        print(\"Image captured and saved as 'captured_image.jpg'\")\n",
    "\n",
    "# Create a label to display the video stream\n",
    "label = Label(root)\n",
    "label.pack()\n",
    "\n",
    "# Create a button to capture the image\n",
    "btn_capture = Button(root, text=\"Capture\", command=capture_image)\n",
    "btn_capture.pack()\n",
    "\n",
    "# Create a thread to display the video stream\n",
    "thread = threading.Thread(target=video_stream)\n",
    "thread.daemon = 1\n",
    "thread.start()\n",
    "\n",
    "root.mainloop()\n"
   ]
  },
  {
   "cell_type": "code",
   "execution_count": 2,
   "metadata": {},
   "outputs": [
    {
     "name": "stdout",
     "output_type": "stream",
     "text": [
      "Coordinates: x=452, y=132, width=100, height=127\n"
     ]
    }
   ],
   "source": [
    "import cv2\n",
    "\n",
    "# Initialize variables\n",
    "drawing = False\n",
    "top_left_pt, bottom_right_pt = None, None\n",
    "\n",
    "# Mouse callback function\n",
    "def draw_rectangle(event, x, y, flags, param):\n",
    "    global drawing, top_left_pt, bottom_right_pt\n",
    "    \n",
    "    if event == cv2.EVENT_LBUTTONDOWN:\n",
    "        drawing = True\n",
    "        top_left_pt = (x, y)\n",
    "\n",
    "    elif event == cv2.EVENT_LBUTTONUP:\n",
    "        drawing = False\n",
    "        bottom_right_pt = (x, y)\n",
    "        cv2.rectangle(img, top_left_pt, bottom_right_pt, (0, 255, 0), 2)\n",
    "        cv2.imshow(\"Draw Rectangle\", img)\n",
    "\n",
    "        x, y = top_left_pt\n",
    "        width = bottom_right_pt[0] - x\n",
    "        height = bottom_right_pt[1] - y\n",
    "        print(f\"Coordinates: x={x}, y={y}, width={width}, height={height}\")\n",
    "\n",
    "# Read the image\n",
    "img = cv2.imread(\"captured_image.jpg\")\n",
    "cv2.namedWindow(\"Draw Rectangle\")\n",
    "\n",
    "# Initialize mouse callback\n",
    "cv2.setMouseCallback(\"Draw Rectangle\", draw_rectangle)\n",
    "\n",
    "while True:\n",
    "    cv2.imshow(\"Draw Rectangle\", img)\n",
    "    \n",
    "    # Close the window when 'q' is pressed\n",
    "    if cv2.waitKey(1) & 0xFF == ord(\"q\"):\n",
    "        break\n",
    "\n",
    "cv2.destroyAllWindows()\n"
   ]
  }
 ],
 "metadata": {
  "kernelspec": {
   "display_name": "Python 3",
   "language": "python",
   "name": "python3"
  },
  "language_info": {
   "codemirror_mode": {
    "name": "ipython",
    "version": 3
   },
   "file_extension": ".py",
   "mimetype": "text/x-python",
   "name": "python",
   "nbconvert_exporter": "python",
   "pygments_lexer": "ipython3",
   "version": "3.11.4"
  },
  "orig_nbformat": 4
 },
 "nbformat": 4,
 "nbformat_minor": 2
}
